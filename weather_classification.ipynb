{
 "cells": [
  {
   "cell_type": "code",
   "execution_count": 24,
   "metadata": {},
   "outputs": [],
   "source": [
    "import torch \n",
    "import torch.nn as nn   \n",
    "import os \n",
    "import random\n",
    "import numpy as np\n",
    "import pandas as pd\n",
    "import matplotlib.pyplot as plt\n",
    "\n",
    "from PIL import Image\n",
    "from torch.utils.data import Dataset, DataLoader\n",
    "from sklearn.model_selection import train_test_split\n"
   ]
  },
  {
   "cell_type": "code",
   "execution_count": 25,
   "metadata": {},
   "outputs": [],
   "source": [
    "def set_seed(seed):\n",
    "    random.seed(seed)\n",
    "    np.random.seed(seed)\n",
    "    torch.manual_seed(seed)\n",
    "    torch.cuda.manual_seed(seed)\n",
    "    torch.cuda.manual_seed_all(seed)\n",
    "    torch.backends.cudnn.deterministic = True\n",
    "    torch.backends.cudnn.benchmark = False\n",
    "\n",
    "seed = 59 \n",
    "set_seed(seed)"
   ]
  },
  {
   "cell_type": "code",
   "execution_count": 26,
   "metadata": {},
   "outputs": [
    {
     "name": "stdout",
     "output_type": "stream",
     "text": [
      "{0: 'dew', 1: 'fogsmog', 2: 'frost', 3: 'glaze', 4: 'hail', 5: 'lightning', 6: 'rain', 7: 'rainbow', 8: 'rime', 9: 'sandstorm', 10: 'snow'}\n",
      "2\n",
      "data/weather-dataset/dataset\\frost\\4051.jpg\n"
     ]
    }
   ],
   "source": [
    "root_dir = 'data/weather-dataset/dataset'\n",
    "img_paths = []\n",
    "labels = []\n",
    "classes = {\n",
    "    label_idx : class_name \\\n",
    "        for label_idx, class_name in enumerate(sorted(os.listdir(root_dir)))\n",
    "}\n",
    "\n",
    "\n",
    "\n",
    "for label_idx, class_name in classes.items():\n",
    "    class_dir = os.path.join(root_dir, class_name)\n",
    "    for img_name in os.listdir(class_dir):\n",
    "        img_path = os.path.join(class_dir, img_name)\n",
    "        img_paths.append(img_path)\n",
    "        labels.append(label_idx)\n",
    "\n",
    "print(classes)\n",
    "print(labels[2000])\n",
    "print(img_paths[2000])"
   ]
  },
  {
   "cell_type": "code",
   "execution_count": 33,
   "metadata": {},
   "outputs": [],
   "source": [
    "val_size = 0.2\n",
    "test_size = 0.125\n",
    "is_shuffle = True \n",
    "\n",
    "X_train,X_val, y_train, y_val = train_test_split(img_paths, labels, test_size= val_size, random_state= seed, shuffle = is_shuffle)\n",
    "X_train,X_test, y_train, y_test = train_test_split(X_train, y_train, test_size= test_size, random_state= seed, shuffle = is_shuffle)\n"
   ]
  },
  {
   "cell_type": "code",
   "execution_count": null,
   "metadata": {},
   "outputs": [
    {
     "data": {
      "text/plain": [
       "(tensor([[[0.7412, 0.7412, 0.7333,  ..., 0.5961, 0.6706, 0.7176],\n",
       "          [0.7176, 0.7333, 0.7333,  ..., 0.6353, 0.6706, 0.6157],\n",
       "          [0.7098, 0.7294, 0.7333,  ..., 0.6627, 0.6549, 0.5765],\n",
       "          ...,\n",
       "          [0.6510, 0.6471, 0.6431,  ..., 0.6431, 0.6588, 0.6667],\n",
       "          [0.6549, 0.6510, 0.6471,  ..., 0.6196, 0.6196, 0.6275],\n",
       "          [0.6431, 0.6431, 0.6431,  ..., 0.6196, 0.6235, 0.6275]],\n",
       " \n",
       "         [[0.7922, 0.8000, 0.7882,  ..., 0.6039, 0.6784, 0.7255],\n",
       "          [0.7765, 0.7882, 0.7843,  ..., 0.6392, 0.6706, 0.6157],\n",
       "          [0.7647, 0.7843, 0.7882,  ..., 0.6667, 0.6588, 0.5804],\n",
       "          ...,\n",
       "          [0.6902, 0.6863, 0.6824,  ..., 0.6902, 0.7059, 0.7137],\n",
       "          [0.6941, 0.6902, 0.6863,  ..., 0.6667, 0.6667, 0.6745],\n",
       "          [0.6824, 0.6824, 0.6824,  ..., 0.6667, 0.6706, 0.6745]],\n",
       " \n",
       "         [[0.8235, 0.8275, 0.8196,  ..., 0.5882, 0.6667, 0.7137],\n",
       "          [0.8039, 0.8196, 0.8235,  ..., 0.6235, 0.6627, 0.6078],\n",
       "          [0.8000, 0.8196, 0.8275,  ..., 0.6471, 0.6392, 0.5608],\n",
       "          ...,\n",
       "          [0.7373, 0.7333, 0.7294,  ..., 0.7412, 0.7529, 0.7608],\n",
       "          [0.7412, 0.7373, 0.7333,  ..., 0.7176, 0.7098, 0.7216],\n",
       "          [0.7294, 0.7294, 0.7294,  ..., 0.7216, 0.7255, 0.7294]]]),\n",
       " 8)"
      ]
     },
     "execution_count": 32,
     "metadata": {},
     "output_type": "execute_result"
    }
   ],
   "source": [
    "class WeatherDataset(Dataset):\n",
    "    def __init__(self, X,y,transform = None):\n",
    "        self.transform = transform\n",
    "        self.img_paths = X\n",
    "        self.labels = y\n",
    "\n",
    "    def __len__(self):\n",
    "        return len(self.labels)\n",
    "    \n",
    "    def __getitem__(self, idx):\n",
    "        img_path = self.img_paths[idx]\n",
    "        img = Image.open(img_path).convert(\"RGB\")\n",
    "\n",
    "        if self.transform:\n",
    "            img = self.transform(img)\n",
    "\n",
    "        return img, self.labels[idx]\n",
    "def transform(img, img_size = (224,224)):\n",
    "    img = img.resize(img_size)\n",
    "    img = np.array(img)[...,:3]\n",
    "    img = torch.tensor(img).permute(2,0,1).float()\n",
    "    normalized_img = img/255.0\n",
    "\n",
    "    return normalized_img\n"
   ]
  },
  {
   "cell_type": "code",
   "execution_count": null,
   "metadata": {},
   "outputs": [],
   "source": [
    "#Dataset for train test val\n",
    "\n",
    "train_dataset = WeatherDataset(X_train, y_train, transform= transform)\n",
    "val_dataset = WeatherDataset(X_val,y_val, transform=transform)\n",
    "test_dataset = WeatherDataset(X_test, y_test, transform= transform)\n"
   ]
  },
  {
   "cell_type": "code",
   "execution_count": 36,
   "metadata": {},
   "outputs": [],
   "source": [
    "# Dataloader \n",
    "\n",
    "train_batch_size = 512\n",
    "test_batch_size = 8 \n",
    "\n",
    "train_loader = DataLoader(\n",
    "    train_dataset,\n",
    "    batch_size= train_batch_size,\n",
    "    shuffle= True\n",
    ")\n",
    "\n",
    "test_loader = DataLoader(\n",
    "    test_dataset,\n",
    "    batch_size= test_batch_size,\n",
    "    shuffle= False\n",
    ")\n",
    "\n",
    "val_loader = DataLoader(\n",
    "    val_dataset,\n",
    "    batch_size= test_batch_size,\n",
    "    shuffle= False\n",
    ")"
   ]
  },
  {
   "cell_type": "code",
   "execution_count": 46,
   "metadata": {},
   "outputs": [],
   "source": [
    "class ResidualBlock(nn.Module):\n",
    "    def __init__(self, in_channels, out_channels, stride = 1):\n",
    "        super(ResidualBlock, self).__init__()\n",
    "        self.conv1 = nn.Conv2d(in_channels, out_channels, kernel_size = 3, stride= stride, padding= 1)\n",
    "        self.batch_norm1 = nn.BatchNorm2d(out_channels)\n",
    "        self.conv2 = nn.Conv2d(out_channels, out_channels, kernel_size = 3, stride= 1, padding= 1)\n",
    "        self.batch_norm2 = nn.BatchNorm2d(out_channels)\n",
    "        self.downsample = nn.Sequential()\n",
    "        if stride != 1 or in_channels != out_channels:\n",
    "            self.downsample = nn.Sequential(\n",
    "                nn.Conv2d(in_channels, out_channels, kernel_size= 1,stride= stride),\n",
    "                nn.BatchNorm2d(out_channels)\n",
    "            )\n",
    "        self.relu = nn.ReLU()\n",
    "\n",
    "    def forward(self, x):\n",
    "        shortcut = x.clone()\n",
    "        x = self.conv1(x)\n",
    "        x = self.batch_norm1(x)\n",
    "        x = self.relu(x)\n",
    "        x = self.conv2(x)\n",
    "        x = self.batch_norm2(x)\n",
    "        x += self.downsample(shortcut)\n",
    "        x = self.relu(x)\n",
    "\n",
    "        return x"
   ]
  },
  {
   "cell_type": "code",
   "execution_count": 47,
   "metadata": {},
   "outputs": [],
   "source": [
    "class ResNet(nn.Module):\n",
    "    def __init__(self, residual_block, n_block_lst, n_classes):\n",
    "        super(ResNet,self).__init__()\n",
    "        self.conv1 = nn.Conv2d(3,64,kernel_size= 7, stride= 2, padding= 3)\n",
    "        self.batchnorm1 = nn.BatchNorm2d(64)\n",
    "        self.relu = nn.ReLU()\n",
    "        self.maxpool = nn.MaxPool2d(kernel_size=3, stride= 2, padding= 1)\n",
    "        self.conv2 = self.create_layer(residual_block, 64, 64, n_block_lst[0], 1)\n",
    "        self.conv3 = self.create_layer(residual_block, 64, 128,n_block_lst[1],2)\n",
    "        self.conv4 = self.create_layer(residual_block, 128,256,n_block_lst[2], 2)\n",
    "        self.conv5 = self.create_layer(residual_block, 256,512,n_block_lst[3], 2)\n",
    "        self.avgpool = nn.AdaptiveAvgPool2d(1)\n",
    "        self.flatten = nn.Flatten()\n",
    "        self.fc1 = nn.Linear(512, n_classes)\n",
    "    def create_layer(self, residual_block, in_channels, out_channels, n_blocks, stride):\n",
    "        blocks = []\n",
    "        first_block = residual_block(in_channels, out_channels, stride)\n",
    "        blocks.append(first_block)\n",
    "\n",
    "        for idx in range(1, n_blocks):\n",
    "            block = residual_block(out_channels, out_channels, stride= 1)\n",
    "            blocks.append(block)\n",
    "        block_sequential = nn.Sequential(*blocks)\n",
    "        return block_sequential\n",
    "    \n",
    "    def forward(self, x):\n",
    "        x = self.conv1(x)\n",
    "        x = self.batchnorm1(x)\n",
    "        x = self.maxpool(x)\n",
    "        x = self.relu(x)\n",
    "        x = self.conv2(x)\n",
    "        x = self.conv3(x)\n",
    "        x = self.conv4(x)\n",
    "        x = self.conv5(x)\n",
    "        x= self.avgpool(x)\n",
    "        x = self.flatten(x)\n",
    "        x = self.fc1(x)\n",
    "\n",
    "        return x"
   ]
  },
  {
   "cell_type": "code",
   "execution_count": null,
   "metadata": {},
   "outputs": [
    {
     "name": "stdout",
     "output_type": "stream",
     "text": [
      "False\n"
     ]
    }
   ],
   "source": [
    "n_classes = len(list(classes.keys()))\n",
    "device = 'cuda' if torch.cuda.is_available() else 'cpu'\n",
    "\n",
    "model = ResNet(\n",
    "    residual_block= ResidualBlock,\n",
    "    n_block_lst= [2,2,2,2],\n",
    "    n_classes= n_classes\n",
    ").to(device)\n",
    "\n",
    "# print(torch.cuda.is_available())"
   ]
  },
  {
   "cell_type": "code",
   "execution_count": null,
   "metadata": {},
   "outputs": [],
   "source": [
    "def evaluate(model, dataloader, criterion, device):\n",
    "    model.eval()\n",
    "    correct = 0\n",
    "    total = 0\n",
    "    losses = []\n",
    "    with torch.no_grad():\n",
    "        for inputs , labels in dataloader :\n",
    "            inputs , labels = inputs .to( device ) , labels.to( device )\n",
    "            outputs = model(inputs)\n",
    "            loss = criterion (outputs, labels)\n",
    "            losses.append(loss.item())\n",
    "            _, predicted = torch.max (outputs.data, 1)\n",
    "            total += labels.size (0)\n",
    "            correct += (predicted == labels).sum().item ()\n",
    "\n",
    "    loss = sum(losses) / len (losses)\n",
    "    acc = correct / total\n",
    "\n",
    "    return loss, acc\n"
   ]
  },
  {
   "cell_type": "code",
   "execution_count": 51,
   "metadata": {},
   "outputs": [],
   "source": [
    "def fit(model, train_loader,val_loader,criterion, optimizer, device, epochs):\n",
    "    train_losses = []\n",
    "    val_losses = []\n",
    "    for epoch in range(epochs):\n",
    "        batch_train_losses= []\n",
    "        model.train()\n",
    "        for idx, (inputs, labels) in enumerate(train_loader):\n",
    "            inputs, labels = inputs.to(device), labels.to(device)\n",
    "\n",
    "            optimizer.zero_grad()\n",
    "            outputs = model(inputs)\n",
    "            loss = criterion(outputs, labels)\n",
    "            loss.backward()\n",
    "            optimizer.step()\n",
    "\n",
    "            batch_train_losses.append(loss.item())\n",
    "\n",
    "        train_loss = sum(batch_train_losses) / len(batch_train_losses)\n",
    "\n",
    "        train_losses.append(train_loss)\n",
    "\n",
    "        val_loss, val_acc = evaluate(model ,val_loader, criterion,device)\n",
    "        val_losses.append(val_loss)\n",
    "\n",
    "        print(f'EPOCH { epoch + 1}:\\tTrain loss :{train_loss:.4f}\\tVal loss : {val_loss:.4f}')\n",
    "        return train_losses, val_losses"
   ]
  },
  {
   "cell_type": "code",
   "execution_count": 52,
   "metadata": {},
   "outputs": [
    {
     "name": "stderr",
     "output_type": "stream",
     "text": [
      "The cache for model files in Transformers v4.22.0 has been updated. Migrating your old cache. This is a one-time only operation. You can interrupt this and resume the migration later on by calling `transformers.utils.move_cache()`.\n"
     ]
    },
    {
     "data": {
      "application/vnd.jupyter.widget-view+json": {
       "model_id": "9e7ad1115394449a9aa8f8461723c543",
       "version_major": 2,
       "version_minor": 0
      },
      "text/plain": [
       "0it [00:00, ?it/s]"
      ]
     },
     "metadata": {},
     "output_type": "display_data"
    }
   ],
   "source": [
    "lr = 1e-2\n",
    "epochs = 25\n",
    "\n",
    "criterion = nn.CrossEntropyLoss()\n",
    "optimizer = torch.optim.SGD(model.parameters(),lr = lr)\n",
    "\n"
   ]
  },
  {
   "cell_type": "code",
   "execution_count": null,
   "metadata": {},
   "outputs": [],
   "source": [
    "train_losses, val_losses = fit(model, train_loader, val_loader, criterion, optimizer, device, epochs)\n"
   ]
  },
  {
   "cell_type": "code",
   "execution_count": null,
   "metadata": {},
   "outputs": [],
   "source": [
    "val_loss, val_acc = evaluate(\n",
    "    model,\n",
    "    val_loader,\n",
    "    criterion,\n",
    "    device\n",
    ")\n",
    "\n",
    "test_loss, test_acc = evaluate(\n",
    "    model,\n",
    "    test_loader,\n",
    "    criterion,\n",
    "    device\n",
    ")\n",
    "\n",
    "print('evaluation on val/test dataset')\n",
    "print('Val accuracy: ',val_acc)\n",
    "print('Test accuracy: ', test_acc)"
   ]
  }
 ],
 "metadata": {
  "kernelspec": {
   "display_name": "base",
   "language": "python",
   "name": "python3"
  },
  "language_info": {
   "codemirror_mode": {
    "name": "ipython",
    "version": 3
   },
   "file_extension": ".py",
   "mimetype": "text/x-python",
   "name": "python",
   "nbconvert_exporter": "python",
   "pygments_lexer": "ipython3",
   "version": "3.11.5"
  }
 },
 "nbformat": 4,
 "nbformat_minor": 2
}
