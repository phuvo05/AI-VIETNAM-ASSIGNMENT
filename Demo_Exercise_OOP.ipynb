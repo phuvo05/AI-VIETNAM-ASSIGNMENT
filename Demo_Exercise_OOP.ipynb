{
 "cells": [
  {
   "cell_type": "code",
   "execution_count": 2,
   "id": "fb122743",
   "metadata": {},
   "outputs": [],
   "source": [
    "import torch \n",
    "import torch.nn as nn\n",
    "import numpy as np \n",
    "import pandas as pd \n"
   ]
  },
  {
   "cell_type": "code",
   "execution_count": 3,
   "id": "1340278e",
   "metadata": {},
   "outputs": [
    {
     "name": "stdout",
     "output_type": "stream",
     "text": [
      "Sigmoid(2) = 0.8807970779778823\n",
      "0.8807970779778823\n"
     ]
    }
   ],
   "source": [
    "class MySigmoid:\n",
    "    def __init__(self, x:int):\n",
    "        self.x = x\n",
    "    def compute(self):\n",
    "        return 1 / (1 + np.exp(-self.x))\n",
    "    def __call__(self):\n",
    "        return self.compute()\n",
    "    def __str__(self):\n",
    "        return f\"Sigmoid({self.x}) = {self.compute()}\"\n",
    "    def __repr__(self):\n",
    "        return f\"Sigmoid(x={self.x})\"\n",
    "x = 2 \n",
    "sigmoid = MySigmoid(2)\n",
    "print(sigmoid)\n",
    "repr(sigmoid)\n",
    "print(sigmoid())\n"
   ]
  },
  {
   "cell_type": "code",
   "execution_count": 4,
   "id": "2b3353bd",
   "metadata": {},
   "outputs": [],
   "source": [
    "class Ward: \n",
    "    def __init__(self, name:str ):\n",
    "        self.name = name\n",
    "        self.people = []\n",
    "    def addPerson(self, person ):\n",
    "        \"\"\"Add a person (Student, Teacher, or Doctor) to the ward\"\"\"\n",
    "        if isinstance(person, (Student,Teacher, Doctor)):\n",
    "            self.people.append(person)\n",
    "            print(f\"Added {person.name} to {self.name}\")\n",
    "        else:\n",
    "            print(\"Only Student, Teacher, or Doctor can be added\")\n",
    "\n",
    "\n",
    "    def describe(self):\n",
    "        print(f'Ward: {self.name}')\n",
    "        print(f'Number of people {len(self.people)}')\n",
    "        for person in self.people:\n",
    "            person.describe()\n",
    "\n",
    "    def countDoctor(self):\n",
    "        count = 0\n",
    "        for person in self.people:\n",
    "            if isinstance(person, Doctor):\n",
    "                count += 1\n",
    "        return f'Number of doctors: {count}'\n",
    "    \n",
    "    def sortAge(self):\n",
    "        self.people.sort(key= lambda person: person.yob)\n",
    "        return self.people\n",
    "    def aveTeacherYearOfBirth(self):\n",
    "        teacher_yob = [person.yob for person in self.people if isinstance(person, Teacher)  ]\n",
    "        if teacher_yob:\n",
    "            avg = sum(teacher_yob)/ len(teacher_yob)\n",
    "            return avg\n",
    "        return 0\n",
    "# class Person: \n",
    "#     def __init__(self,role):\n",
    "#         self.role = role\n",
    "\n",
    "     \n",
    "\n",
    "#     def describe(self):\n",
    "#         print(f'Role: {self.role}')\n",
    "\n",
    "class Student:\n",
    "    def __init__(self, name, yob:int, grade):\n",
    "        self.name = name\n",
    "        self.yob = yob\n",
    "        self.grade = grade\n",
    "\n",
    "    def describe(self):\n",
    "        print(f'Student: {self.name} - Job: {self.yob} - Grade: {self.grade}')\n",
    "\n",
    "class Teacher:\n",
    "    def __init__(self, name, yob:int, subject:str):\n",
    "        self.name = name\n",
    "        self.yob = yob\n",
    "        self.subject = subject\n",
    "\n",
    "    def describe(self):\n",
    "        print(f'Teacher: {self.name} - Job: {self.yob} - Subject: {self.subject}')\n",
    "\n",
    "class Doctor:\n",
    "    def __init__(self, name, yob:int, specialist:str):\n",
    "        self.name = name\n",
    "        self.yob = yob\n",
    "        self.specialist = specialist\n",
    "        \n",
    "    def describe(self):\n",
    "        print(f'Doctor: {self.name} - Job: {self.yob} - Specialist: {self.specialist}')"
   ]
  },
  {
   "cell_type": "code",
   "execution_count": 5,
   "id": "2d1deca6",
   "metadata": {},
   "outputs": [
    {
     "name": "stdout",
     "output_type": "stream",
     "text": [
      "Added Aris to Ward1\n",
      "Added Josh to Ward1\n",
      "Added Hi to Ward1\n",
      "Added teacherB to Ward1\n",
      "Ward: Ward1\n",
      "Number of people 4\n",
      "Teacher: Aris - Job: 1995 - Subject: Math\n",
      "Student: Josh - Job: 2005 - Grade: 10\n",
      "Doctor: Hi - Job: 1999 - Specialist: asdsad\n",
      "Teacher: teacherB - Job: 1997 - Subject: History\n",
      "Number of doctors: 1\n",
      "1996.0\n"
     ]
    }
   ],
   "source": [
    "temp1 = Teacher(\"Aris\", 1995,\"Math\")\n",
    "temp2 = Student(\"Josh\", 2005, 10)\n",
    "temp3 = Doctor(\"Hi\", 1999, \"asdsad\")\n",
    "# temp1.describe()\n",
    "# temp2.describe()\n",
    "# temp3.describe()\n",
    "\n",
    "teacher2 = Teacher(name=\"teacherB\", yob=1997, subject=\"History\")\n",
    "ward1 = Ward(\"Ward1\")\n",
    "ward1.addPerson(temp1)\n",
    "ward1.addPerson(temp2)\n",
    "ward1.addPerson(temp3)\n",
    "ward1.addPerson(teacher2)\n",
    "ward1.describe()\n",
    "print(ward1.countDoctor())\n",
    "# print(ward1.sortAge())\n",
    "print(ward1.aveTeacherYearOfBirth())\n"
   ]
  },
  {
   "cell_type": "code",
   "execution_count": 6,
   "id": "e3a6b68a",
   "metadata": {},
   "outputs": [
    {
     "name": "stdout",
     "output_type": "stream",
     "text": [
      "False\n",
      "2\n",
      "2\n",
      "1\n",
      "1\n",
      "True\n"
     ]
    }
   ],
   "source": [
    "class MyStack:\n",
    "    def __init__(self, capacity):\n",
    "        self.capacity = capacity\n",
    "        self.stack = []\n",
    "    def isEmpty(self):\n",
    "        return len(self.stack) == 0\n",
    "\n",
    "    def isFull(self):\n",
    "        return len(self.stack) == self.capacity\n",
    "\n",
    "    def pop(self):\n",
    "        return self.stack.pop()\n",
    "\n",
    "\n",
    "    def push(self,x):\n",
    "        self.stack.append(x)\n",
    "\n",
    "    def top(self):\n",
    "        return self.stack[-1]\n",
    "    \n",
    "stack1 = MyStack(capacity= 5)\n",
    "\n",
    "stack1.push(1)\n",
    "\n",
    "stack1.push(2)\n",
    "\n",
    "print(stack1.isFull())\n",
    "print(stack1.top())\n",
    "print(stack1.pop())\n",
    "print(stack1.top())\n",
    "print(stack1.pop())\n",
    "print(stack1.isEmpty())\n",
    "\n"
   ]
  },
  {
   "cell_type": "code",
   "execution_count": 7,
   "id": "380b1aab",
   "metadata": {},
   "outputs": [
    {
     "name": "stdout",
     "output_type": "stream",
     "text": [
      "2\n"
     ]
    }
   ],
   "source": [
    "stack1 = MyStack(capacity=5)\n",
    "stack1.push(1)\n",
    "stack1.push(2)\n",
    "print(stack1.top())"
   ]
  },
  {
   "cell_type": "code",
   "execution_count": 8,
   "id": "06d252be",
   "metadata": {},
   "outputs": [
    {
     "name": "stdout",
     "output_type": "stream",
     "text": [
      "False\n"
     ]
    }
   ],
   "source": [
    "stack1 = MyStack(capacity=5)\n",
    "stack1.push(1)\n",
    "stack1.push(2)\n",
    "print(stack1.isFull())"
   ]
  },
  {
   "cell_type": "code",
   "execution_count": 9,
   "id": "f420605f",
   "metadata": {},
   "outputs": [
    {
     "name": "stdout",
     "output_type": "stream",
     "text": [
      "False\n",
      "1\n",
      "1\n",
      "2\n",
      "2\n",
      "True\n"
     ]
    }
   ],
   "source": [
    "class MyQueue:\n",
    "    def __init__(self, capacity):\n",
    "        self.capacity = capacity\n",
    "        self.queue = []\n",
    "    def isEmpty(self):\n",
    "        return len(self.queue) ==0\n",
    "\n",
    "    def isFull(self):\n",
    "        return len(self.queue) == self.capacity\n",
    "\n",
    "    def dequeue(self):\n",
    "        x = self.queue.pop(0)\n",
    "        return x\n",
    "\n",
    "    def enqueue(self, x:int):\n",
    "        self.queue.append(x)\n",
    "\n",
    "    def front(self):\n",
    "        return self.queue[0]\n",
    "\n",
    "    \n",
    "\n",
    "\n",
    "queue1 = MyQueue(capacity=5)\n",
    "queue1.enqueue(1)\n",
    "queue1.enqueue(2)\n",
    "print(queue1.isFull())\n",
    "print(queue1.front())\n",
    "print(queue1.dequeue())\n",
    "print(queue1.front())\n",
    "print(queue1.dequeue())\n",
    "print(queue1.isEmpty())"
   ]
  },
  {
   "cell_type": "code",
   "execution_count": 10,
   "id": "00ba91eb",
   "metadata": {},
   "outputs": [
    {
     "name": "stdout",
     "output_type": "stream",
     "text": [
      "1\n"
     ]
    }
   ],
   "source": [
    "queue1 = MyQueue(capacity=5)\n",
    "queue1.enqueue(1)\n",
    "assert queue1.isFull() == False\n",
    "queue1.enqueue(2)\n",
    "print(queue1.front())"
   ]
  },
  {
   "cell_type": "code",
   "execution_count": 11,
   "id": "2ef59fb9",
   "metadata": {},
   "outputs": [
    {
     "name": "stdout",
     "output_type": "stream",
     "text": [
      "tensor([0.9933, 0.9526])\n"
     ]
    }
   ],
   "source": [
    "# Cau hoi trac nghiem\n",
    "import torch\n",
    "\n",
    "x = torch.tensor([5.0, 3.0])\n",
    "\n",
    "output = torch.sigmoid(x)\n",
    "\n",
    "print(output)"
   ]
  },
  {
   "cell_type": "code",
   "execution_count": 12,
   "id": "62b3a946",
   "metadata": {},
   "outputs": [
    {
     "name": "stdout",
     "output_type": "stream",
     "text": [
      "tensor([0.9526, 0.8808])\n"
     ]
    }
   ],
   "source": [
    "import torch\n",
    "import torch.nn as nn \n",
    "\n",
    "class MySigmoid(nn.Module):\n",
    "    def __init__(self):\n",
    "        super().__init__()\n",
    "\n",
    "    def forward(self, x):\n",
    "        output = torch.sigmoid(x)\n",
    "        return output\n",
    "    \n",
    "data = torch.Tensor([3.0, 2.0])\n",
    "sigmoid = MySigmoid()\n",
    "output = sigmoid(data)\n",
    "print(output)"
   ]
  },
  {
   "cell_type": "code",
   "execution_count": 13,
   "id": "a2a48a35",
   "metadata": {},
   "outputs": [
    {
     "data": {
      "text/plain": [
       "'Student: studentZ2023 - YoB:2011- Grade: 6'"
      ]
     },
     "execution_count": 13,
     "metadata": {},
     "output_type": "execute_result"
    }
   ],
   "source": [
    "from abc import ABC, abstractmethod\n",
    "\n",
    "class Person(ABC):\n",
    "    def __init__(self,name:str, yob:int):\n",
    "        self._name = name\n",
    "        self._yob = yob\n",
    "\n",
    "    def getYoB(self):\n",
    "        return self._yob\n",
    "    \n",
    "    @abstractmethod\n",
    "    def describe(self):\n",
    "        pass\n",
    "\n",
    "\n",
    "class Student(Person):\n",
    "    def __init__(self, name, yob,grade):\n",
    "        super().__init__(name, yob)\n",
    "        self._grade = grade\n",
    "    def describe(self):\n",
    "        return f\"Student: {self._name} - YoB:{self._yob}- Grade: {self._grade}\"\n",
    "#for examples\n",
    "student1 = Student(name=\"studentZ2023\", yob=2011, grade=\"6\") \n",
    "student1.describe()"
   ]
  },
  {
   "cell_type": "code",
   "execution_count": 14,
   "id": "e19d7d17",
   "metadata": {},
   "outputs": [
    {
     "data": {
      "text/plain": [
       "'Teacher: ha - YoB:2000- subject: Maths'"
      ]
     },
     "execution_count": 14,
     "metadata": {},
     "output_type": "execute_result"
    }
   ],
   "source": [
    "from abc import ABC, abstractmethod\n",
    "\n",
    "class Person(ABC):\n",
    "    def __init__(self, name, yob):\n",
    "        self._name = name \n",
    "        self._yob = yob\n",
    "    \n",
    "    def getYoB(self):\n",
    "        return self._yob\n",
    "    \n",
    "class Teacher(Person):\n",
    "    def __init__(self, name, yob, subject):\n",
    "        super().__init__(name, yob)\n",
    "        self._subject = subject\n",
    "\n",
    "    def describe(self):\n",
    "        return f\"Teacher: {self._name} - YoB:{self._yob}- subject: {self._subject}\"\n",
    "    \n",
    "teacher1 = Teacher(\"ha\", 2000, \"Maths\")\n",
    "teacher1.describe()"
   ]
  },
  {
   "cell_type": "code",
   "execution_count": null,
   "id": "bcb2be02",
   "metadata": {},
   "outputs": [],
   "source": []
  }
 ],
 "metadata": {
  "kernelspec": {
   "display_name": "base",
   "language": "python",
   "name": "python3"
  },
  "language_info": {
   "codemirror_mode": {
    "name": "ipython",
    "version": 3
   },
   "file_extension": ".py",
   "mimetype": "text/x-python",
   "name": "python",
   "nbconvert_exporter": "python",
   "pygments_lexer": "ipython3",
   "version": "3.13.5"
  }
 },
 "nbformat": 4,
 "nbformat_minor": 5
}
